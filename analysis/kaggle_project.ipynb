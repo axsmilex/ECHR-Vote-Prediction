{
 "cells": [
  {
   "cell_type": "code",
   "execution_count": 444,
   "metadata": {},
   "outputs": [],
   "source": [
    "import pandas as pd\n",
    "import numpy as np\n",
    "from IPython.display import display\n",
    "import matplotlib.pyplot as plt\n",
    "\n",
    "import re\n",
    "from sklearn.impute import SimpleImputer\n",
    "from sklearn.preprocessing import StandardScaler\n",
    "from sklearn.model_selection import train_test_split\n",
    "from sklearn.metrics import accuracy_score\n",
    "from sklearn.metrics import classification_report\n",
    "from sklearn.model_selection import GridSearchCV\n",
    "from sklearn.metrics import accuracy_score, classification_report\n",
    "\n",
    "#models\n",
    "\n",
    "from sklearn.naive_bayes import GaussianNB\n",
    "from sklearn.neighbors import KNeighborsClassifier\n",
    "from sklearn.tree import DecisionTreeClassifier\n",
    "from sklearn.svm import SVC\n"
   ]
  },
  {
   "cell_type": "markdown",
   "metadata": {},
   "source": [
    "## Common preprocessing for all methods"
   ]
  },
  {
   "cell_type": "code",
   "execution_count": 447,
   "metadata": {},
   "outputs": [],
   "source": [
    "# loading data\n",
    "train_df = pd.read_csv(\"train.csv\")\n",
    "test_df = pd.read_csv(\"test.csv\")"
   ]
  },
  {
   "cell_type": "code",
   "execution_count": 449,
   "metadata": {},
   "outputs": [
    {
     "data": {
      "text/html": [
       "<div>\n",
       "<style scoped>\n",
       "    .dataframe tbody tr th:only-of-type {\n",
       "        vertical-align: middle;\n",
       "    }\n",
       "\n",
       "    .dataframe tbody tr th {\n",
       "        vertical-align: top;\n",
       "    }\n",
       "\n",
       "    .dataframe thead th {\n",
       "        text-align: right;\n",
       "    }\n",
       "</style>\n",
       "<table border=\"1\" class=\"dataframe\">\n",
       "  <thead>\n",
       "    <tr style=\"text-align: right;\">\n",
       "      <th></th>\n",
       "      <th>judge_full_name</th>\n",
       "      <th>case_title_list</th>\n",
       "      <th>app_no_list</th>\n",
       "      <th>date_list</th>\n",
       "      <th>year</th>\n",
       "      <th>respondent_country</th>\n",
       "      <th>respondent_country_2</th>\n",
       "      <th>respondent_country_3</th>\n",
       "      <th>respondent_country_4</th>\n",
       "      <th>respondent_country_5</th>\n",
       "      <th>...</th>\n",
       "      <th>women_issue</th>\n",
       "      <th>originating_body</th>\n",
       "      <th>importance_level</th>\n",
       "      <th>v2x_libdem</th>\n",
       "      <th>v2x_gender</th>\n",
       "      <th>eu</th>\n",
       "      <th>EU_membership_period</th>\n",
       "      <th>eu_years</th>\n",
       "      <th>region</th>\n",
       "      <th>progovernment_vote</th>\n",
       "    </tr>\n",
       "  </thead>\n",
       "  <tbody>\n",
       "    <tr>\n",
       "      <th>0</th>\n",
       "      <td>Louis-Edmond Pettiti</td>\n",
       "      <td>CASE OF LUTZ v. GERMANY</td>\n",
       "      <td>9912/82</td>\n",
       "      <td>25/08/1987</td>\n",
       "      <td>1987</td>\n",
       "      <td>germany</td>\n",
       "      <td>NaN</td>\n",
       "      <td>NaN</td>\n",
       "      <td>NaN</td>\n",
       "      <td>NaN</td>\n",
       "      <td>...</td>\n",
       "      <td>0</td>\n",
       "      <td>Court (Plenary)</td>\n",
       "      <td>1</td>\n",
       "      <td>0.798</td>\n",
       "      <td>0.832</td>\n",
       "      <td>1</td>\n",
       "      <td>1957</td>\n",
       "      <td>30.0</td>\n",
       "      <td>Western Europe</td>\n",
       "      <td>0</td>\n",
       "    </tr>\n",
       "    <tr>\n",
       "      <th>1</th>\n",
       "      <td>Louis-Edmond Pettiti</td>\n",
       "      <td>CASE OF LUTZ v. GERMANY</td>\n",
       "      <td>9912/82</td>\n",
       "      <td>25/08/1987</td>\n",
       "      <td>1987</td>\n",
       "      <td>germany</td>\n",
       "      <td>NaN</td>\n",
       "      <td>NaN</td>\n",
       "      <td>NaN</td>\n",
       "      <td>NaN</td>\n",
       "      <td>...</td>\n",
       "      <td>0</td>\n",
       "      <td>Court (Plenary)</td>\n",
       "      <td>1</td>\n",
       "      <td>0.798</td>\n",
       "      <td>0.832</td>\n",
       "      <td>1</td>\n",
       "      <td>1957</td>\n",
       "      <td>30.0</td>\n",
       "      <td>Western Europe</td>\n",
       "      <td>1</td>\n",
       "    </tr>\n",
       "    <tr>\n",
       "      <th>2</th>\n",
       "      <td>Sir Vincent Evans</td>\n",
       "      <td>CASE OF LUTZ v. GERMANY</td>\n",
       "      <td>9912/82</td>\n",
       "      <td>25/08/1987</td>\n",
       "      <td>1987</td>\n",
       "      <td>germany</td>\n",
       "      <td>NaN</td>\n",
       "      <td>NaN</td>\n",
       "      <td>NaN</td>\n",
       "      <td>NaN</td>\n",
       "      <td>...</td>\n",
       "      <td>0</td>\n",
       "      <td>Court (Plenary)</td>\n",
       "      <td>1</td>\n",
       "      <td>0.730</td>\n",
       "      <td>0.821</td>\n",
       "      <td>1</td>\n",
       "      <td>1973-2020</td>\n",
       "      <td>14.0</td>\n",
       "      <td>Western Europe</td>\n",
       "      <td>0</td>\n",
       "    </tr>\n",
       "    <tr>\n",
       "      <th>3</th>\n",
       "      <td>Sir Vincent Evans</td>\n",
       "      <td>CASE OF LUTZ v. GERMANY</td>\n",
       "      <td>9912/82</td>\n",
       "      <td>25/08/1987</td>\n",
       "      <td>1987</td>\n",
       "      <td>germany</td>\n",
       "      <td>NaN</td>\n",
       "      <td>NaN</td>\n",
       "      <td>NaN</td>\n",
       "      <td>NaN</td>\n",
       "      <td>...</td>\n",
       "      <td>0</td>\n",
       "      <td>Court (Plenary)</td>\n",
       "      <td>1</td>\n",
       "      <td>0.730</td>\n",
       "      <td>0.821</td>\n",
       "      <td>1</td>\n",
       "      <td>1973-2020</td>\n",
       "      <td>14.0</td>\n",
       "      <td>Western Europe</td>\n",
       "      <td>1</td>\n",
       "    </tr>\n",
       "    <tr>\n",
       "      <th>4</th>\n",
       "      <td>Ronald St. John Macdonald</td>\n",
       "      <td>CASE OF LUTZ v. GERMANY</td>\n",
       "      <td>9912/82</td>\n",
       "      <td>25/08/1987</td>\n",
       "      <td>1987</td>\n",
       "      <td>germany</td>\n",
       "      <td>NaN</td>\n",
       "      <td>NaN</td>\n",
       "      <td>NaN</td>\n",
       "      <td>NaN</td>\n",
       "      <td>...</td>\n",
       "      <td>0</td>\n",
       "      <td>Court (Plenary)</td>\n",
       "      <td>1</td>\n",
       "      <td>NaN</td>\n",
       "      <td>NaN</td>\n",
       "      <td>0</td>\n",
       "      <td>NaN</td>\n",
       "      <td>NaN</td>\n",
       "      <td>Western Europe</td>\n",
       "      <td>0</td>\n",
       "    </tr>\n",
       "  </tbody>\n",
       "</table>\n",
       "<p>5 rows × 68 columns</p>\n",
       "</div>"
      ],
      "text/plain": [
       "             judge_full_name          case_title_list app_no_list   date_list  \\\n",
       "0       Louis-Edmond Pettiti  CASE OF LUTZ v. GERMANY     9912/82  25/08/1987   \n",
       "1       Louis-Edmond Pettiti  CASE OF LUTZ v. GERMANY     9912/82  25/08/1987   \n",
       "2          Sir Vincent Evans  CASE OF LUTZ v. GERMANY     9912/82  25/08/1987   \n",
       "3          Sir Vincent Evans  CASE OF LUTZ v. GERMANY     9912/82  25/08/1987   \n",
       "4  Ronald St. John Macdonald  CASE OF LUTZ v. GERMANY     9912/82  25/08/1987   \n",
       "\n",
       "   year respondent_country respondent_country_2  respondent_country_3  \\\n",
       "0  1987            germany                  NaN                   NaN   \n",
       "1  1987            germany                  NaN                   NaN   \n",
       "2  1987            germany                  NaN                   NaN   \n",
       "3  1987            germany                  NaN                   NaN   \n",
       "4  1987            germany                  NaN                   NaN   \n",
       "\n",
       "   respondent_country_4  respondent_country_5  ...  women_issue  \\\n",
       "0                   NaN                   NaN  ...            0   \n",
       "1                   NaN                   NaN  ...            0   \n",
       "2                   NaN                   NaN  ...            0   \n",
       "3                   NaN                   NaN  ...            0   \n",
       "4                   NaN                   NaN  ...            0   \n",
       "\n",
       "   originating_body  importance_level  v2x_libdem  v2x_gender  eu  \\\n",
       "0   Court (Plenary)                 1       0.798       0.832   1   \n",
       "1   Court (Plenary)                 1       0.798       0.832   1   \n",
       "2   Court (Plenary)                 1       0.730       0.821   1   \n",
       "3   Court (Plenary)                 1       0.730       0.821   1   \n",
       "4   Court (Plenary)                 1         NaN         NaN   0   \n",
       "\n",
       "   EU_membership_period  eu_years          region  progovernment_vote  \n",
       "0                  1957      30.0  Western Europe                   0  \n",
       "1                  1957      30.0  Western Europe                   1  \n",
       "2             1973-2020      14.0  Western Europe                   0  \n",
       "3             1973-2020      14.0  Western Europe                   1  \n",
       "4                   NaN       NaN  Western Europe                   0  \n",
       "\n",
       "[5 rows x 68 columns]"
      ]
     },
     "execution_count": 449,
     "metadata": {},
     "output_type": "execute_result"
    }
   ],
   "source": [
    "train_df.head(5)"
   ]
  },
  {
   "cell_type": "code",
   "execution_count": 450,
   "metadata": {},
   "outputs": [
    {
     "data": {
      "text/html": [
       "<div>\n",
       "<style scoped>\n",
       "    .dataframe tbody tr th:only-of-type {\n",
       "        vertical-align: middle;\n",
       "    }\n",
       "\n",
       "    .dataframe tbody tr th {\n",
       "        vertical-align: top;\n",
       "    }\n",
       "\n",
       "    .dataframe thead th {\n",
       "        text-align: right;\n",
       "    }\n",
       "</style>\n",
       "<table border=\"1\" class=\"dataframe\">\n",
       "  <thead>\n",
       "    <tr style=\"text-align: right;\">\n",
       "      <th></th>\n",
       "      <th>ids</th>\n",
       "      <th>judge_full_name</th>\n",
       "      <th>case_title_list</th>\n",
       "      <th>app_no_list</th>\n",
       "      <th>date_list</th>\n",
       "      <th>year</th>\n",
       "      <th>respondent_country</th>\n",
       "      <th>respondent_country_2</th>\n",
       "      <th>respondent_country_3</th>\n",
       "      <th>respondent_country_4</th>\n",
       "      <th>...</th>\n",
       "      <th>women_issue</th>\n",
       "      <th>originating_body</th>\n",
       "      <th>importance_level</th>\n",
       "      <th>v2x_libdem</th>\n",
       "      <th>v2x_gender</th>\n",
       "      <th>eu</th>\n",
       "      <th>EU_membership_period</th>\n",
       "      <th>eu_years</th>\n",
       "      <th>region</th>\n",
       "      <th>progovernment_vote</th>\n",
       "    </tr>\n",
       "  </thead>\n",
       "  <tbody>\n",
       "    <tr>\n",
       "      <th>0</th>\n",
       "      <td>1</td>\n",
       "      <td>Nicolas Bratza</td>\n",
       "      <td>CASE OF EL-MASRI v. \"THE FORMER YUGOSLAV REPUB...</td>\n",
       "      <td>39630/09</td>\n",
       "      <td>2012-12-13</td>\n",
       "      <td>2012</td>\n",
       "      <td>macedonia</td>\n",
       "      <td>NaN</td>\n",
       "      <td>NaN</td>\n",
       "      <td>NaN</td>\n",
       "      <td>...</td>\n",
       "      <td>0</td>\n",
       "      <td>Court (Grand Chamber)</td>\n",
       "      <td>Key cases</td>\n",
       "      <td>0.805</td>\n",
       "      <td>0.916</td>\n",
       "      <td>1</td>\n",
       "      <td>1973-2020</td>\n",
       "      <td>39.0</td>\n",
       "      <td>Western Europe</td>\n",
       "      <td>NaN</td>\n",
       "    </tr>\n",
       "    <tr>\n",
       "      <th>1</th>\n",
       "      <td>2</td>\n",
       "      <td>Francoise Tulkens</td>\n",
       "      <td>CASE OF EL-MASRI v. \"THE FORMER YUGOSLAV REPUB...</td>\n",
       "      <td>39630/09</td>\n",
       "      <td>2012-12-13</td>\n",
       "      <td>2012</td>\n",
       "      <td>macedonia</td>\n",
       "      <td>NaN</td>\n",
       "      <td>NaN</td>\n",
       "      <td>NaN</td>\n",
       "      <td>...</td>\n",
       "      <td>0</td>\n",
       "      <td>Court (Grand Chamber)</td>\n",
       "      <td>Key cases</td>\n",
       "      <td>0.835</td>\n",
       "      <td>0.944</td>\n",
       "      <td>1</td>\n",
       "      <td>1957</td>\n",
       "      <td>55.0</td>\n",
       "      <td>Western Europe</td>\n",
       "      <td>NaN</td>\n",
       "    </tr>\n",
       "    <tr>\n",
       "      <th>2</th>\n",
       "      <td>3</td>\n",
       "      <td>Josep Casadevall</td>\n",
       "      <td>CASE OF EL-MASRI v. \"THE FORMER YUGOSLAV REPUB...</td>\n",
       "      <td>39630/09</td>\n",
       "      <td>2012-12-13</td>\n",
       "      <td>2012</td>\n",
       "      <td>macedonia</td>\n",
       "      <td>NaN</td>\n",
       "      <td>NaN</td>\n",
       "      <td>NaN</td>\n",
       "      <td>...</td>\n",
       "      <td>0</td>\n",
       "      <td>Court (Grand Chamber)</td>\n",
       "      <td>Key cases</td>\n",
       "      <td>NaN</td>\n",
       "      <td>NaN</td>\n",
       "      <td>0</td>\n",
       "      <td>NaN</td>\n",
       "      <td>NaN</td>\n",
       "      <td>Western Europe</td>\n",
       "      <td>NaN</td>\n",
       "    </tr>\n",
       "  </tbody>\n",
       "</table>\n",
       "<p>3 rows × 69 columns</p>\n",
       "</div>"
      ],
      "text/plain": [
       "   ids    judge_full_name                                    case_title_list  \\\n",
       "0    1     Nicolas Bratza  CASE OF EL-MASRI v. \"THE FORMER YUGOSLAV REPUB...   \n",
       "1    2  Francoise Tulkens  CASE OF EL-MASRI v. \"THE FORMER YUGOSLAV REPUB...   \n",
       "2    3   Josep Casadevall  CASE OF EL-MASRI v. \"THE FORMER YUGOSLAV REPUB...   \n",
       "\n",
       "  app_no_list   date_list  year respondent_country respondent_country_2  \\\n",
       "0    39630/09  2012-12-13  2012          macedonia                  NaN   \n",
       "1    39630/09  2012-12-13  2012          macedonia                  NaN   \n",
       "2    39630/09  2012-12-13  2012          macedonia                  NaN   \n",
       "\n",
       "  respondent_country_3 respondent_country_4  ... women_issue  \\\n",
       "0                  NaN                  NaN  ...           0   \n",
       "1                  NaN                  NaN  ...           0   \n",
       "2                  NaN                  NaN  ...           0   \n",
       "\n",
       "        originating_body  importance_level  v2x_libdem  v2x_gender  eu  \\\n",
       "0  Court (Grand Chamber)         Key cases       0.805       0.916   1   \n",
       "1  Court (Grand Chamber)         Key cases       0.835       0.944   1   \n",
       "2  Court (Grand Chamber)         Key cases         NaN         NaN   0   \n",
       "\n",
       "   EU_membership_period  eu_years          region  progovernment_vote  \n",
       "0             1973-2020      39.0  Western Europe                 NaN  \n",
       "1                  1957      55.0  Western Europe                 NaN  \n",
       "2                   NaN       NaN  Western Europe                 NaN  \n",
       "\n",
       "[3 rows x 69 columns]"
      ]
     },
     "execution_count": 450,
     "metadata": {},
     "output_type": "execute_result"
    }
   ],
   "source": [
    "test_df.head(3)"
   ]
  },
  {
   "cell_type": "code",
   "execution_count": 453,
   "metadata": {},
   "outputs": [
    {
     "data": {
      "text/plain": [
       "array(['25/08/1987', '21/02/1984', '27/06/1968', '20/11/1989',\n",
       "       '22/09/1993', '18/07/1994', '1996-09-16', '1995-09-26',\n",
       "       '1996-09-02', '2012-02-07', '2012-03-15', '2013-11-07',\n",
       "       '2018-12-19', '2020-06-18', '27/08/1991', '16/12/1992',\n",
       "       '25/05/1993', '18/12/1996', '19/03/1997', '15/11/1996',\n",
       "       '26/09/1996', '14/12/2010', '09/07/2013', '08/04/2014',\n",
       "       '12/04/2016', '2016-05-17', '2016-06-23', '2016-11-08',\n",
       "       '2016-12-13', '2017-09-05', '2017-09-14', '16/10/2018',\n",
       "       '04/12/2018', '2019-11-21', '2020-01-20', '2020-07-07',\n",
       "       '2023-03-09', '04/06/2019', '2020-12-01', '2020-12-22',\n",
       "       '31/05/2022', '2010-09-10', '2010-12-16', '2014-01-28',\n",
       "       '09/10/1979', '18/12/1986', '29/11/1991', '29/10/1992',\n",
       "       '14/11/1960', '01/07/1961', '2011-03-18', '2011-03-24',\n",
       "       '12/07/2011', '2012-02-23', '2012-06-07', '02/04/2013',\n",
       "       '04/03/2014', '02/12/2014', '27/01/2015', '2015-08-27',\n",
       "       '30/06/2016', '2016-12-15', '2017-01-24', '2017-02-23',\n",
       "       '2018-06-28', '2023-07-12', '22/02/1989', '10/12/1982',\n",
       "       '06/11/1980', '08/12/1983', '19/12/1989', '26/02/1993',\n",
       "       '10/02/1993', '13/06/2019', '2012-05-22', '03/04/2012',\n",
       "       '31/07/2012', '2012-10-25', '2013-11-26', '2014-03-25',\n",
       "       '13/01/2015', '2016-05-23', '2016-07-05', '2022-06-09',\n",
       "       '2011-01-06', '2015-10-15', '2015-10-20', '2023-01-23',\n",
       "       '2012-04-03', '18/04/2013', '2023-02-14', '17/07/2012',\n",
       "       '21/06/2016', '28/06/2011', '05/12/2013', '2016-11-15',\n",
       "       '05/10/2017', '2019-09-10', '2021-12-10', '26/05/2011',\n",
       "       '20/09/2018', '23/07/2020', '05/11/2020', '07/05/2021',\n",
       "       '22/07/2021', '2022-03-15', '2010-11-16', '21/12/2010',\n",
       "       '31/01/2012', '25/07/2017', '2017-12-19', '2018-04-04',\n",
       "       '2018-11-06', '2019-01-31', '21/11/1995', '1996-02-20',\n",
       "       '2017-07-11', '26/07/2011', '2013-07-09', '2014-07-17',\n",
       "       '2014-09-17', '2016-11-29', '2019-06-25', '2019-07-08',\n",
       "       '13/10/2020', '2020-10-15', '07/10/2010', '2010-11-02',\n",
       "       '12/04/2011', '20/09/2011', '2012-03-22', '16/04/2012',\n",
       "       '12/02/2013', '06/06/2013', '2013-10-21', '2015-06-30',\n",
       "       '2015-12-04', '29/03/2016', '2016-03-23', '2017-03-30',\n",
       "       '13/04/2017', '20/06/2017', '2018-11-15', '2018-12-18',\n",
       "       '21/09/2021', '07/12/2021', '15/03/2022', '2022-04-29',\n",
       "       '2023-01-17', '2014-07-03', '2021-01-21', '2023-04-28',\n",
       "       '24/05/2016', '08/11/2011', '13/12/2011', '2012-06-26',\n",
       "       '2014-03-12', '28/05/2015', '28/08/2018', '2018-12-11',\n",
       "       '10/03/2020', '2010-09-28', '2011-09-12', '2014-06-12',\n",
       "       '2019-10-17', '2020-02-13', '30/06/2020', '18/10/2022',\n",
       "       '06/12/1988', '23/04/1992', '23/06/1993', '24/02/1994',\n",
       "       '09/12/1994', '13/06/1994', '09/02/2012', '2013-11-12',\n",
       "       '2015-04-08', '2016-08-23', '2021-05-25', '26/05/1988',\n",
       "       '22/06/1989', '26/03/1987', '27/10/1987', '02/10/1984',\n",
       "       '23/09/1982', '07/07/1989', '20/03/1991', '29/10/1991',\n",
       "       '1996-04-25', '18/12/1984', '24/03/1988', '2012-07-13',\n",
       "       '2012-09-12', '26/11/2013', '2014-09-30', '2014-11-04',\n",
       "       '24/02/2015', '02/02/2016', '2016-03-29', '2016-06-21',\n",
       "       '2018-03-15', '02/10/2018', '19/01/2021', '2022-10-11',\n",
       "       '2023-11-27', '2024-04-09', '29/04/1988', '24/05/1988',\n",
       "       '18/12/1987', '21/10/1986', '12/07/1988', '04/12/1979',\n",
       "       '22/02/1984', '28/03/1990', '22/05/1990', '23/10/1990',\n",
       "       '28/11/1991', '15/06/1992', '24/06/1993', '24/11/1993',\n",
       "       '22/02/1994', '19/02/1996', '1997-08-26', '31/01/1995',\n",
       "       '11/10/2011', '20/06/2013', '11/12/2014', '2015-01-27',\n",
       "       '2017-09-19', '2021-04-08', '2023-06-01', '2010-09-14',\n",
       "       '2014-10-03', '2014-11-20', '2016-04-26', '2017-11-06',\n",
       "       '23/10/1985', '21/06/1988', '08/06/1976', '29/05/1986',\n",
       "       '26/06/1986', '24/08/1993', '27/10/1993', '27/10/1994',\n",
       "       '23/02/1995', '23/04/1997', '21/02/1997', '23/11/1976',\n",
       "       '30/10/1997', '2022-04-05', '2012-10-19', '2016-02-23',\n",
       "       '28/09/2010', '18/01/2011', '2011-07-07', '2011-12-15',\n",
       "       '18/09/2012', '15/01/2013', '2013-04-22', '16/07/2013',\n",
       "       '2013-07-12', '14/01/2014', '2014-09-16', '20/10/2015',\n",
       "       '2016-03-30', '2016-09-13', '2017-01-17', '20/03/2018',\n",
       "       '24/10/2019', '2022-11-03', '28/05/1985', '24/10/1986',\n",
       "       '27/04/1988', '29/11/1988', '08/07/1987', '25/02/1982',\n",
       "       '28/06/1984', '22/10/1981', '21/02/1975', '07/12/1976',\n",
       "       '18/01/1978', '21/02/1986', '08/07/1986', '02/08/1984',\n",
       "       '02/03/1987', '17/10/1986', '25/04/1978', '05/11/1981',\n",
       "       '13/08/1981', '27/09/1990', '25/10/1990', '26/11/1991',\n",
       "       '30/10/1991', '30/08/1990', '25/03/1992', '25/03/1993',\n",
       "       '26/05/1993', '21/09/1994', '1994-10-28', '09/02/1995',\n",
       "       '05/05/1995', '1995-09-27', '1996-03-27', '1996-02-08',\n",
       "       '1996-06-10', '1996-11-15', '1996-12-17', '25/02/1997',\n",
       "       '19/02/1997', '1997-04-22', '25/09/1996', '25/11/1996',\n",
       "       '23/10/1997', '24/10/1983', '18/10/1982', '27/03/1991',\n",
       "       '26/04/1979', '14/09/2010', '2011-10-20', '10/05/2012',\n",
       "       '2012-06-29', '09/10/2012', '18/12/2012', '2014-05-12',\n",
       "       '20/01/2015', '10/03/2015', '2015-04-14', '01/12/2015',\n",
       "       '10/12/2019', '03/03/2020', '10/11/2020', '1996-12-18',\n",
       "       '09/07/1997', '18/03/2014', '1995-03-23', '25/09/2012',\n",
       "       '22/04/2014', '2022-07-11', '2023-09-26', '09/01/2013',\n",
       "       '04/06/2015', '2017-10-12', '2018-09-25', '30/01/2020',\n",
       "       '2015-02-05'], dtype=object)"
      ]
     },
     "execution_count": 453,
     "metadata": {},
     "output_type": "execute_result"
    }
   ],
   "source": [
    "train_df['date_list'].unique()"
   ]
  },
  {
   "cell_type": "code",
   "execution_count": 455,
   "metadata": {},
   "outputs": [
    {
     "data": {
      "text/html": [
       "<div>\n",
       "<style scoped>\n",
       "    .dataframe tbody tr th:only-of-type {\n",
       "        vertical-align: middle;\n",
       "    }\n",
       "\n",
       "    .dataframe tbody tr th {\n",
       "        vertical-align: top;\n",
       "    }\n",
       "\n",
       "    .dataframe thead th {\n",
       "        text-align: right;\n",
       "    }\n",
       "</style>\n",
       "<table border=\"1\" class=\"dataframe\">\n",
       "  <thead>\n",
       "    <tr style=\"text-align: right;\">\n",
       "      <th></th>\n",
       "      <th>Min</th>\n",
       "      <th>Mean</th>\n",
       "      <th>Median</th>\n",
       "      <th>Max</th>\n",
       "    </tr>\n",
       "  </thead>\n",
       "  <tbody>\n",
       "    <tr>\n",
       "      <th>progovernment_vote</th>\n",
       "      <td>0.000</td>\n",
       "      <td>0.476286</td>\n",
       "      <td>0.000</td>\n",
       "      <td>1.000</td>\n",
       "    </tr>\n",
       "    <tr>\n",
       "      <th>v2x_libdem</th>\n",
       "      <td>0.059</td>\n",
       "      <td>0.692992</td>\n",
       "      <td>0.783</td>\n",
       "      <td>0.897</td>\n",
       "    </tr>\n",
       "    <tr>\n",
       "      <th>female</th>\n",
       "      <td>0.000</td>\n",
       "      <td>0.228829</td>\n",
       "      <td>0.000</td>\n",
       "      <td>1.000</td>\n",
       "    </tr>\n",
       "    <tr>\n",
       "      <th>judge_age</th>\n",
       "      <td>36.000</td>\n",
       "      <td>60.231600</td>\n",
       "      <td>61.000</td>\n",
       "      <td>86.000</td>\n",
       "    </tr>\n",
       "    <tr>\n",
       "      <th>home</th>\n",
       "      <td>0.000</td>\n",
       "      <td>0.072143</td>\n",
       "      <td>0.000</td>\n",
       "      <td>1.000</td>\n",
       "    </tr>\n",
       "  </tbody>\n",
       "</table>\n",
       "</div>"
      ],
      "text/plain": [
       "                       Min       Mean  Median     Max\n",
       "progovernment_vote   0.000   0.476286   0.000   1.000\n",
       "v2x_libdem           0.059   0.692992   0.783   0.897\n",
       "female               0.000   0.228829   0.000   1.000\n",
       "judge_age           36.000  60.231600  61.000  86.000\n",
       "home                 0.000   0.072143   0.000   1.000"
      ]
     },
     "metadata": {},
     "output_type": "display_data"
    }
   ],
   "source": [
    "# Descriptive statistics\n",
    "vars_of_interest = [\n",
    "    'progovernment_vote',\n",
    "    'v2x_libdem',\n",
    "    'female',\n",
    "    'judge_age',\n",
    "    'home'\n",
    "]\n",
    "summary = (\n",
    "    train_df[vars_of_interest]\n",
    "      .agg(['min', 'mean', 'median', 'max'])\n",
    "      .transpose()\n",
    ")\n",
    "summary.columns = ['Min', 'Mean', 'Median', 'Max']\n",
    "\n",
    "# 3. Display the table\n",
    "display(summary)"
   ]
  },
  {
   "cell_type": "code",
   "execution_count": 457,
   "metadata": {},
   "outputs": [
    {
     "data": {
      "image/png": "[encoded data removed]",
      "text/plain": [
       "<Figure size 1000x600 with 1 Axes>"
      ]
     },
     "metadata": {},
     "output_type": "display_data"
    }
   ],
   "source": [
    "\n",
    "# Visualization 1: Proportion of pro-government votes by region\n",
    "\n",
    "prop_region = train_df.groupby('region')['progovernment_vote'].mean().sort_values(ascending=False)\n",
    "plt.figure(figsize=(10, 6))\n",
    "prop_region.plot(kind='bar')\n",
    "plt.xlabel('Region')\n",
    "plt.ylabel('Proportion Pro-Government Vote')\n",
    "plt.title('Figure 1. Proportion of Pro-Government Votes by Region')\n",
    "plt.xticks(rotation=45, ha='right')\n",
    "plt.tight_layout()\n",
    "plt.savefig('fig1_judge_countries.png', dpi=300, bbox_inches='tight')\n",
    "plt.show()"
   ]
  },
  {
   "cell_type": "code",
   "execution_count": 458,
   "metadata": {},
   "outputs": [
    {
     "data": {
      "image/png": "[encoded data removed]",
      "text/plain": [
       "<Figure size 800x500 with 1 Axes>"
      ]
     },
     "metadata": {},
     "output_type": "display_data"
    }
   ],
   "source": [
    "# Visualization 2: Trend of pro-government votes over years\n",
    "prop_year = train_df.groupby('year')['progovernment_vote'].mean()\n",
    "plt.figure(figsize=(8, 5))\n",
    "prop_year.plot(marker='o', linestyle='-')\n",
    "plt.xlabel('Year')\n",
    "plt.ylabel('Proportion Pro-Government Vote')\n",
    "plt.title('Figure 2. Trend of Pro-Government Votes by Year')\n",
    "plt.grid(True)\n",
    "plt.tight_layout()\n",
    "plt.savefig('fig2_judge_countries.png', dpi=300, bbox_inches='tight')\n",
    "plt.show()"
   ]
  },
  {
   "cell_type": "code",
   "execution_count": 459,
   "metadata": {},
   "outputs": [
    {
     "data": {
      "image/png": "[encoded data removed]",
      "text/plain": [
       "<Figure size 800x800 with 1 Axes>"
      ]
     },
     "metadata": {},
     "output_type": "display_data"
    }
   ],
   "source": [
    "# Visualization 3: Judges by coutnry\n",
    "country_col = 'respondent_country'\n",
    "country_counts = train_df[country_col].value_counts()\n",
    "\n",
    "plt.figure(figsize=(8,8))\n",
    "country_counts.plot.pie(autopct='%1.1f%%', startangle=140)\n",
    "plt.title('Figure 3: Distribution of Judges by Country')\n",
    "plt.ylabel('')  # Hide y-label\n",
    "plt.tight_layout()\n",
    "plt.savefig('fig3_judge_countries.png', dpi=300, bbox_inches='tight')\n",
    "plt.show()"
   ]
  },
  {
   "cell_type": "code",
   "execution_count": 460,
   "metadata": {},
   "outputs": [
    {
     "name": "stdout",
     "output_type": "stream",
     "text": [
      "['judge_full_name', 'case_title_list', 'app_no_list', 'date_list', 'year', 'respondent_country', 'respondent_country_2', 'respondent_country_3', 'respondent_country_4', 'respondent_country_5', 'issue', 'dissent_vote', 'dissent_alone', 'concur_vote', 'concur_alone', 'adhoc_case', 'violation_vote', 'case_separate_opinion', 'number_of_separate_opinions', 'number_of_concurring_opinions', 'number_of_dissenting_opinions', 'number_of_all_opinions', 'concur_case', 'dissent_case', 'number_of_women', 'number_of_men', 'number_of_judges', 'fraction_female', 'female', 'recruited_from_position_type', 'academic', 'diplomat', 'judge', 'lawyer', 'politician', 'public_official', 'omni', 'judgecnt', 'ccode', 'home', 'term', 'term_start', 'term_end', 'biryear', 'age_at_election', 'age_at_retirement', 'president_in_case', 'eastern_europe', 'term_year', 'term_length', 'judge_age', 'last_two_years', 'case_violation', 'violations', 'no_violations', 'conclusion', 'southern_europe', 'separate_opinion_tradition', 'women_issue', 'originating_body', 'importance_level', 'v2x_libdem', 'v2x_gender', 'eu', 'EU_membership_period', 'eu_years', 'region', 'progovernment_vote']\n"
     ]
    },
    {
     "data": {
      "text/plain": [
       "['respondent_country',\n",
       " 'respondent_country_2',\n",
       " 'respondent_country_3',\n",
       " 'respondent_country_4',\n",
       " 'respondent_country_5']"
      ]
     },
     "execution_count": 460,
     "metadata": {},
     "output_type": "execute_result"
    }
   ],
   "source": [
    "        # 1. Inspect your columns\n",
    "print(train_df.columns.tolist())\n",
    "\n",
    "# 2. (Optional) find any column with “respond” in its name\n",
    "[c for c in train_df.columns if 'respond' in c.lower()]\n"
   ]
  },
  {
   "cell_type": "code",
   "execution_count": 462,
   "metadata": {},
   "outputs": [],
   "source": [
    "# function for date parsing since the format is not standardized \n",
    "\n",
    "def clean_date_list(date): \n",
    "\n",
    "    if pd.notna(date):\n",
    "        date = str(date).strip()\n",
    "    else:\n",
    "        date = \"\"\n",
    "    \n",
    "    for regex_pattern in [r\"\\d{4}-\\d{2}-\\d{2}\", r\"\\d{2}/\\d{2}/\\d{4}\"]:\n",
    "        regex_match = re.search(regex_pattern, date)\n",
    "        if regex_match:\n",
    "            return regex_match[0]\n",
    "    \n",
    "    return np.nan"
   ]
  },
  {
   "cell_type": "code",
   "execution_count": 463,
   "metadata": {},
   "outputs": [
    {
     "data": {
      "text/plain": [
       "judge_full_name          object\n",
       "case_title_list          object\n",
       "app_no_list              object\n",
       "date_list                object\n",
       "year                      int64\n",
       "                         ...   \n",
       "eu                        int64\n",
       "EU_membership_period     object\n",
       "eu_years                float64\n",
       "region                   object\n",
       "progovernment_vote        int64\n",
       "Length: 68, dtype: object"
      ]
     },
     "execution_count": 463,
     "metadata": {},
     "output_type": "execute_result"
    }
   ],
   "source": [
    "train_df.dtypes"
   ]
  },
  {
   "cell_type": "code",
   "execution_count": 464,
   "metadata": {},
   "outputs": [
    {
     "name": "stderr",
     "output_type": "stream",
     "text": [
      "C:\\Users\\Alex\\AppData\\Local\\Temp\\ipykernel_20588\\6000974.py:10: UserWarning: Parsing dates in %Y-%m-%d format when dayfirst=True was specified. Pass `dayfirst=False` or specify a format to silence this warning.\n",
      "  test_df[\"standard_date\"] = pd.to_datetime(test_df[\"clean_date\"], dayfirst= True, errors= \"coerce\")\n"
     ]
    }
   ],
   "source": [
    "# breaking case_date into month and year \n",
    "\n",
    "train_df[\"clean_date\"] = train_df[\"date_list\"].apply(clean_date_list)\n",
    "train_df[\"standard_date\"] = pd.to_datetime(train_df[\"clean_date\"], dayfirst= True, errors= \"coerce\")\n",
    "train_df[\"case_year\"] = train_df[\"standard_date\"].dt.year.fillna(0).astype(int)\n",
    "train_df[\"case_month\"] = train_df[\"standard_date\"].dt.month.fillna(0).astype(int)\n",
    "train_df.drop(columns=[\"date_list\", \"clean_date\", \"standard_date\"], inplace= True)\n",
    "\n",
    "test_df[\"clean_date\"] = test_df[\"date_list\"].apply(clean_date_list)\n",
    "test_df[\"standard_date\"] = pd.to_datetime(test_df[\"clean_date\"], dayfirst= True, errors= \"coerce\")\n",
    "test_df[\"case_year\"] = test_df[\"standard_date\"].dt.year.fillna(0).astype(int)\n",
    "test_df[\"case_month\"] = test_df[\"standard_date\"].dt.month.fillna(0).astype(int)\n",
    "test_df.drop(columns=[\"date_list\", \"clean_date\", \"standard_date\"], inplace= True)"
   ]
  },
  {
   "cell_type": "code",
   "execution_count": 466,
   "metadata": {},
   "outputs": [
    {
     "data": {
      "text/plain": [
       "case_month    int32\n",
       "case_year     int32\n",
       "dtype: object"
      ]
     },
     "execution_count": 466,
     "metadata": {},
     "output_type": "execute_result"
    }
   ],
   "source": [
    "train_df[['case_month', 'case_year']].dtypes"
   ]
  },
  {
   "cell_type": "code",
   "execution_count": 467,
   "metadata": {},
   "outputs": [],
   "source": [
    "# dropping unecessary columns or cols with lots of missing data\n",
    "\n",
    "drop_columns = ['ids', 'judge_full_name', 'EU_membership_period', 'violations', 'no_violations', 'app_no_list', 'case_title_list', 'conclusion', 'year', 'age_at_election',\n",
    "                'age_at_retirement']\n",
    "\n",
    "cols_with_missing_data = [column for column in train_df.columns if train_df[column].isnull().mean() > 0.35 and column not in [\"case_year\", \"case_date\"]]\n",
    "\n",
    "all_drop_cols = drop_columns + cols_with_missing_data\n",
    "\n",
    "train_df.drop(columns= all_drop_cols, inplace= True, errors= 'ignore')\n",
    "test_df.drop(columns= all_drop_cols, inplace= True, errors= 'ignore')"
   ]
  },
  {
   "cell_type": "code",
   "execution_count": 475,
   "metadata": {},
   "outputs": [
    {
     "data": {
      "text/html": [
       "<div>\n",
       "<style scoped>\n",
       "    .dataframe tbody tr th:only-of-type {\n",
       "        vertical-align: middle;\n",
       "    }\n",
       "\n",
       "    .dataframe tbody tr th {\n",
       "        vertical-align: top;\n",
       "    }\n",
       "\n",
       "    .dataframe thead th {\n",
       "        text-align: right;\n",
       "    }\n",
       "</style>\n",
       "<table border=\"1\" class=\"dataframe\">\n",
       "  <thead>\n",
       "    <tr style=\"text-align: right;\">\n",
       "      <th></th>\n",
       "      <th>respondent_country</th>\n",
       "      <th>issue</th>\n",
       "      <th>dissent_vote</th>\n",
       "      <th>concur_vote</th>\n",
       "      <th>adhoc_case</th>\n",
       "      <th>violation_vote</th>\n",
       "      <th>case_separate_opinion</th>\n",
       "      <th>concur_case</th>\n",
       "      <th>dissent_case</th>\n",
       "      <th>female</th>\n",
       "      <th>...</th>\n",
       "      <th>women_issue</th>\n",
       "      <th>originating_body</th>\n",
       "      <th>importance_level</th>\n",
       "      <th>v2x_libdem</th>\n",
       "      <th>v2x_gender</th>\n",
       "      <th>eu</th>\n",
       "      <th>region</th>\n",
       "      <th>progovernment_vote</th>\n",
       "      <th>case_year</th>\n",
       "      <th>case_month</th>\n",
       "    </tr>\n",
       "  </thead>\n",
       "  <tbody>\n",
       "    <tr>\n",
       "      <th>0</th>\n",
       "      <td>germany</td>\n",
       "      <td>1</td>\n",
       "      <td>0</td>\n",
       "      <td>0</td>\n",
       "      <td>0</td>\n",
       "      <td>NaN</td>\n",
       "      <td>1</td>\n",
       "      <td>0.0</td>\n",
       "      <td>1.0</td>\n",
       "      <td>0.0</td>\n",
       "      <td>...</td>\n",
       "      <td>0</td>\n",
       "      <td>Court (Plenary)</td>\n",
       "      <td>1</td>\n",
       "      <td>0.798</td>\n",
       "      <td>0.832</td>\n",
       "      <td>1</td>\n",
       "      <td>Western Europe</td>\n",
       "      <td>0</td>\n",
       "      <td>1987</td>\n",
       "      <td>8</td>\n",
       "    </tr>\n",
       "    <tr>\n",
       "      <th>1</th>\n",
       "      <td>germany</td>\n",
       "      <td>2</td>\n",
       "      <td>0</td>\n",
       "      <td>0</td>\n",
       "      <td>0</td>\n",
       "      <td>0.0</td>\n",
       "      <td>1</td>\n",
       "      <td>0.0</td>\n",
       "      <td>1.0</td>\n",
       "      <td>0.0</td>\n",
       "      <td>...</td>\n",
       "      <td>0</td>\n",
       "      <td>Court (Plenary)</td>\n",
       "      <td>1</td>\n",
       "      <td>0.798</td>\n",
       "      <td>0.832</td>\n",
       "      <td>1</td>\n",
       "      <td>Western Europe</td>\n",
       "      <td>1</td>\n",
       "      <td>1987</td>\n",
       "      <td>8</td>\n",
       "    </tr>\n",
       "    <tr>\n",
       "      <th>2</th>\n",
       "      <td>germany</td>\n",
       "      <td>1</td>\n",
       "      <td>0</td>\n",
       "      <td>0</td>\n",
       "      <td>0</td>\n",
       "      <td>NaN</td>\n",
       "      <td>1</td>\n",
       "      <td>0.0</td>\n",
       "      <td>1.0</td>\n",
       "      <td>0.0</td>\n",
       "      <td>...</td>\n",
       "      <td>0</td>\n",
       "      <td>Court (Plenary)</td>\n",
       "      <td>1</td>\n",
       "      <td>0.730</td>\n",
       "      <td>0.821</td>\n",
       "      <td>1</td>\n",
       "      <td>Western Europe</td>\n",
       "      <td>0</td>\n",
       "      <td>1987</td>\n",
       "      <td>8</td>\n",
       "    </tr>\n",
       "  </tbody>\n",
       "</table>\n",
       "<p>3 rows × 44 columns</p>\n",
       "</div>"
      ],
      "text/plain": [
       "  respondent_country  issue  dissent_vote  concur_vote  adhoc_case  \\\n",
       "0            germany      1             0            0           0   \n",
       "1            germany      2             0            0           0   \n",
       "2            germany      1             0            0           0   \n",
       "\n",
       "   violation_vote  case_separate_opinion  concur_case  dissent_case  female  \\\n",
       "0             NaN                      1          0.0           1.0     0.0   \n",
       "1             0.0                      1          0.0           1.0     0.0   \n",
       "2             NaN                      1          0.0           1.0     0.0   \n",
       "\n",
       "   ... women_issue  originating_body  importance_level  v2x_libdem  \\\n",
       "0  ...           0   Court (Plenary)                 1       0.798   \n",
       "1  ...           0   Court (Plenary)                 1       0.798   \n",
       "2  ...           0   Court (Plenary)                 1       0.730   \n",
       "\n",
       "   v2x_gender  eu          region  progovernment_vote case_year case_month  \n",
       "0       0.832   1  Western Europe                   0      1987          8  \n",
       "1       0.832   1  Western Europe                   1      1987          8  \n",
       "2       0.821   1  Western Europe                   0      1987          8  \n",
       "\n",
       "[3 rows x 44 columns]"
      ]
     },
     "execution_count": 475,
     "metadata": {},
     "output_type": "execute_result"
    }
   ],
   "source": [
    "train_df.head(3)"
   ]
  },
  {
   "cell_type": "code",
   "execution_count": 477,
   "metadata": {},
   "outputs": [
    {
     "data": {
      "text/html": [
       "<div>\n",
       "<style scoped>\n",
       "    .dataframe tbody tr th:only-of-type {\n",
       "        vertical-align: middle;\n",
       "    }\n",
       "\n",
       "    .dataframe tbody tr th {\n",
       "        vertical-align: top;\n",
       "    }\n",
       "\n",
       "    .dataframe thead th {\n",
       "        text-align: right;\n",
       "    }\n",
       "</style>\n",
       "<table border=\"1\" class=\"dataframe\">\n",
       "  <thead>\n",
       "    <tr style=\"text-align: right;\">\n",
       "      <th></th>\n",
       "      <th>respondent_country</th>\n",
       "      <th>issue</th>\n",
       "      <th>dissent_vote</th>\n",
       "      <th>concur_vote</th>\n",
       "      <th>adhoc_case</th>\n",
       "      <th>violation_vote</th>\n",
       "      <th>case_separate_opinion</th>\n",
       "      <th>concur_case</th>\n",
       "      <th>dissent_case</th>\n",
       "      <th>female</th>\n",
       "      <th>...</th>\n",
       "      <th>women_issue</th>\n",
       "      <th>originating_body</th>\n",
       "      <th>importance_level</th>\n",
       "      <th>v2x_libdem</th>\n",
       "      <th>v2x_gender</th>\n",
       "      <th>eu</th>\n",
       "      <th>region</th>\n",
       "      <th>progovernment_vote</th>\n",
       "      <th>case_year</th>\n",
       "      <th>case_month</th>\n",
       "    </tr>\n",
       "  </thead>\n",
       "  <tbody>\n",
       "    <tr>\n",
       "      <th>0</th>\n",
       "      <td>macedonia</td>\n",
       "      <td>1</td>\n",
       "      <td>0</td>\n",
       "      <td>0</td>\n",
       "      <td>0</td>\n",
       "      <td>1.0</td>\n",
       "      <td>1</td>\n",
       "      <td>1.0</td>\n",
       "      <td>0.0</td>\n",
       "      <td>0.0</td>\n",
       "      <td>...</td>\n",
       "      <td>0</td>\n",
       "      <td>Court (Grand Chamber)</td>\n",
       "      <td>Key cases</td>\n",
       "      <td>0.805</td>\n",
       "      <td>0.916</td>\n",
       "      <td>1</td>\n",
       "      <td>Western Europe</td>\n",
       "      <td>NaN</td>\n",
       "      <td>2012</td>\n",
       "      <td>12</td>\n",
       "    </tr>\n",
       "    <tr>\n",
       "      <th>1</th>\n",
       "      <td>macedonia</td>\n",
       "      <td>1</td>\n",
       "      <td>0</td>\n",
       "      <td>1</td>\n",
       "      <td>0</td>\n",
       "      <td>1.0</td>\n",
       "      <td>1</td>\n",
       "      <td>1.0</td>\n",
       "      <td>0.0</td>\n",
       "      <td>1.0</td>\n",
       "      <td>...</td>\n",
       "      <td>0</td>\n",
       "      <td>Court (Grand Chamber)</td>\n",
       "      <td>Key cases</td>\n",
       "      <td>0.835</td>\n",
       "      <td>0.944</td>\n",
       "      <td>1</td>\n",
       "      <td>Western Europe</td>\n",
       "      <td>NaN</td>\n",
       "      <td>2012</td>\n",
       "      <td>12</td>\n",
       "    </tr>\n",
       "    <tr>\n",
       "      <th>2</th>\n",
       "      <td>macedonia</td>\n",
       "      <td>1</td>\n",
       "      <td>0</td>\n",
       "      <td>1</td>\n",
       "      <td>0</td>\n",
       "      <td>1.0</td>\n",
       "      <td>1</td>\n",
       "      <td>1.0</td>\n",
       "      <td>0.0</td>\n",
       "      <td>0.0</td>\n",
       "      <td>...</td>\n",
       "      <td>0</td>\n",
       "      <td>Court (Grand Chamber)</td>\n",
       "      <td>Key cases</td>\n",
       "      <td>NaN</td>\n",
       "      <td>NaN</td>\n",
       "      <td>0</td>\n",
       "      <td>Western Europe</td>\n",
       "      <td>NaN</td>\n",
       "      <td>2012</td>\n",
       "      <td>12</td>\n",
       "    </tr>\n",
       "  </tbody>\n",
       "</table>\n",
       "<p>3 rows × 44 columns</p>\n",
       "</div>"
      ],
      "text/plain": [
       "  respondent_country  issue  dissent_vote  concur_vote  adhoc_case  \\\n",
       "0          macedonia      1             0            0           0   \n",
       "1          macedonia      1             0            1           0   \n",
       "2          macedonia      1             0            1           0   \n",
       "\n",
       "   violation_vote  case_separate_opinion  concur_case  dissent_case  female  \\\n",
       "0             1.0                      1          1.0           0.0     0.0   \n",
       "1             1.0                      1          1.0           0.0     1.0   \n",
       "2             1.0                      1          1.0           0.0     0.0   \n",
       "\n",
       "   ... women_issue       originating_body  importance_level  v2x_libdem  \\\n",
       "0  ...           0  Court (Grand Chamber)         Key cases       0.805   \n",
       "1  ...           0  Court (Grand Chamber)         Key cases       0.835   \n",
       "2  ...           0  Court (Grand Chamber)         Key cases         NaN   \n",
       "\n",
       "   v2x_gender  eu          region  progovernment_vote case_year case_month  \n",
       "0       0.916   1  Western Europe                 NaN      2012         12  \n",
       "1       0.944   1  Western Europe                 NaN      2012         12  \n",
       "2         NaN   0  Western Europe                 NaN      2012         12  \n",
       "\n",
       "[3 rows x 44 columns]"
      ]
     },
     "execution_count": 477,
     "metadata": {},
     "output_type": "execute_result"
    }
   ],
   "source": [
    "test_df.head(3)"
   ]
  },
  {
   "cell_type": "code",
   "execution_count": 479,
   "metadata": {},
   "outputs": [],
   "source": [
    "# splitting the dataset for use in models\n",
    "\n",
    "y = train_df['progovernment_vote']\n",
    "train_df.drop(columns= ['progovernment_vote'], inplace=  True, errors= \"ignore\")\n",
    "\n",
    "X = train_df.copy() # all the features for the model\n",
    "\n",
    "X_test = test_df[X.columns].copy() # test dataset"
   ]
  },
  {
   "cell_type": "code",
   "execution_count": 481,
   "metadata": {},
   "outputs": [],
   "source": [
    "#Discretizing judge age into bins\n",
    "\n",
    "X['judge_age_groups'] = pd.qcut(X['judge_age'], 3, labels= False)\n",
    "X_test['judge_age_groups'] = pd.qcut(X_test['judge_age'], 3, labels= False)\n",
    "\n",
    "X.drop(columns=['judge_age'], inplace=True)\n",
    "X_test.drop(columns=['judge_age'], inplace=True)"
   ]
  },
  {
   "cell_type": "code",
   "execution_count": 483,
   "metadata": {},
   "outputs": [],
   "source": [
    "#Discretizing judge term length into bins\n",
    "\n",
    "X['term_length_groups'] = pd.qcut(X['term_length'], 3, labels= False)\n",
    "X_test['term_length_groups'] = pd.qcut(X['term_length'], 3, labels= False)\n",
    "\n",
    "X.drop(columns=['term_length'], inplace=True)\n",
    "X_test.drop(columns=['term_length'], inplace=True)"
   ]
  },
  {
   "cell_type": "code",
   "execution_count": 485,
   "metadata": {},
   "outputs": [
    {
     "data": {
      "text/plain": [
       "array([dtype('O'), dtype('int64'), dtype('float64'), dtype('int32')],\n",
       "      dtype=object)"
      ]
     },
     "execution_count": 485,
     "metadata": {},
     "output_type": "execute_result"
    }
   ],
   "source": [
    "X.dtypes.unique()"
   ]
  },
  {
   "cell_type": "code",
   "execution_count": 487,
   "metadata": {},
   "outputs": [],
   "source": [
    "# Adding Missing values\n",
    "\n",
    "numeric_columns = X.select_dtypes(include=[np.number]).columns\n",
    "categorical_columns = X.select_dtypes(include=[\"object\"]).columns\n",
    "\n",
    "impute_numeric = SimpleImputer(strategy=\"mean\") # mean\n",
    "impute_categoric = SimpleImputer(strategy=\"most_frequent\") # mode\n",
    "\n",
    "# fitting on training data\n",
    "impute_numeric.fit(X[numeric_columns])\n",
    "impute_categoric.fit(X[categorical_columns])\n",
    "\n",
    "# imputing missing values for both X and X_test\n",
    "\n",
    "X[numeric_columns] = impute_numeric.transform(X[numeric_columns])\n",
    "X[categorical_columns] = impute_categoric.transform(X[categorical_columns])\n",
    "\n",
    "X_test[numeric_columns] = impute_numeric.transform(X_test[numeric_columns])\n",
    "X_test[categorical_columns] = impute_categoric.transform(X_test[categorical_columns])"
   ]
  },
  {
   "cell_type": "code",
   "execution_count": 489,
   "metadata": {},
   "outputs": [
    {
     "data": {
      "text/plain": [
       "0"
      ]
     },
     "execution_count": 489,
     "metadata": {},
     "output_type": "execute_result"
    }
   ],
   "source": [
    "X.isna().sum().sum()"
   ]
  },
  {
   "cell_type": "code",
   "execution_count": 491,
   "metadata": {},
   "outputs": [
    {
     "data": {
      "text/plain": [
       "0"
      ]
     },
     "execution_count": 491,
     "metadata": {},
     "output_type": "execute_result"
    }
   ],
   "source": [
    "X_test.isna().sum().sum()"
   ]
  },
  {
   "cell_type": "code",
   "execution_count": 493,
   "metadata": {},
   "outputs": [],
   "source": [
    "# encoding categorical columns\n",
    "\n",
    "for column in X.select_dtypes(include=\"object\"):\n",
    "\n",
    "    X[column], unique_values = pd.factorize(X[column].astype(str))\n",
    "\n",
    "    category_map = {label: index for index,label in enumerate(unique_values)}\n",
    "\n",
    "    X_test[column] = X_test[column].astype(str)\n",
    "    X_test[column] = X_test[column].map(category_map)\n",
    "    X_test[column] = X_test[column].fillna(-1)\n",
    "    X_test[column] = X_test[column].astype(int)\n"
   ]
  },
  {
   "cell_type": "code",
   "execution_count": 495,
   "metadata": {},
   "outputs": [
    {
     "name": "stdout",
     "output_type": "stream",
     "text": [
      "Object columns left in X_test: []\n"
     ]
    }
   ],
   "source": [
    "# Which columns are still objects?\n",
    "obj_cols = X_test.select_dtypes(include=[\"object\"]).columns.tolist()\n",
    "print(\"Object columns left in X_test:\", obj_cols)\n",
    "\n",
    "# Peek at their values\n",
    "for c in obj_cols:\n",
    "    print(c, \"→\", X_test[c].unique()[:10])"
   ]
  },
  {
   "cell_type": "code",
   "execution_count": 497,
   "metadata": {},
   "outputs": [],
   "source": [
    "# Splitting train\n",
    "X_train, X_val, y_train, y_val = train_test_split(X, y, test_size=0.2, stratify=y, random_state= 7)"
   ]
  },
  {
   "cell_type": "code",
   "execution_count": 499,
   "metadata": {},
   "outputs": [
    {
     "name": "stdout",
     "output_type": "stream",
     "text": [
      "Accuracy:  0.8678571428571429\n",
      "              precision    recall  f1-score   support\n",
      "\n",
      "           0       0.88      0.87      0.87       733\n",
      "           1       0.86      0.87      0.86       667\n",
      "\n",
      "    accuracy                           0.87      1400\n",
      "   macro avg       0.87      0.87      0.87      1400\n",
      "weighted avg       0.87      0.87      0.87      1400\n",
      "\n"
     ]
    }
   ],
   "source": [
    "# Naive Bayes\n",
    "naive_bayes_model = GaussianNB()\n",
    "naive_bayes_model.fit(X_train, y_train)\n",
    "naive_bayes_predict = naive_bayes_model.predict(X_val)\n",
    "\n",
    "nb_accuracy = accuracy_score(y_val, naive_bayes_predict)\n",
    "nb_report = classification_report(y_val, naive_bayes_predict)\n",
    "\n",
    "print(\"Accuracy: \", nb_accuracy)\n",
    "\n",
    "print(nb_report)\n"
   ]
  },
  {
   "cell_type": "code",
   "execution_count": 572,
   "metadata": {},
   "outputs": [
    {
     "name": "stdout",
     "output_type": "stream",
     "text": [
      "Accuracy:  0.6914285714285714\n",
      "              precision    recall  f1-score   support\n",
      "\n",
      "           0       0.71      0.70      0.70       733\n",
      "           1       0.67      0.68      0.68       667\n",
      "\n",
      "    accuracy                           0.69      1400\n",
      "   macro avg       0.69      0.69      0.69      1400\n",
      "weighted avg       0.69      0.69      0.69      1400\n",
      "\n"
     ]
    }
   ],
   "source": [
    "# KNN\n",
    "\n",
    "knn_scaler = StandardScaler()\n",
    "knn_X_train = X_train.copy()\n",
    "knn_X_val = X_val.copy()\n",
    "knn_X_train[numeric_columns] = knn_scaler.fit_transform(X_train[numeric_columns])\n",
    "knn_X_val[numeric_columns] = knn_scaler.transform(X_val[numeric_columns])\n",
    "\n",
    "knn_model = KNeighborsClassifier()\n",
    "knn_model.fit(knn_X_train, y_train)\n",
    "knn_pred = knn_model.predict(knn_X_val)\n",
    "\n",
    "knn_accuracy = accuracy_score(y_val, knn_pred)\n",
    "knn_report = classification_report(y_val, knn_pred)\n",
    "\n",
    "print(\"Accuracy: \", knn_accuracy)\n",
    "\n",
    "print(knn_report)\n",
    "\n"
   ]
  },
  {
   "cell_type": "code",
   "execution_count": 578,
   "metadata": {},
   "outputs": [
    {
     "name": "stdout",
     "output_type": "stream",
     "text": [
      "Best hyperparameters: {'ccp_alpha': 0.0, 'max_depth': None, 'min_samples_leaf': 1}\n"
     ]
    }
   ],
   "source": [
    "# Decision Tree\n",
    "# 0) Median‐impute numeric features in train/val to avoid NaNs\n",
    "X_train_imp = X_train.copy()\n",
    "X_val_imp   = X_val.copy()\n",
    "for col in numeric_columns:\n",
    "    med = X_train[col].median()\n",
    "    X_train_imp[col].fillna(med, inplace=True)\n",
    "    X_val_imp[col].fillna(med, inplace=True)\n",
    "\n",
    "# 1)  Pruning/depth parameters\n",
    "param_grid = {\n",
    "    'max_depth':        [5, 8, 12, None],\n",
    "    'min_samples_leaf': [1, 5, 10],\n",
    "    'ccp_alpha':        [0.0, 0.001, 0.01]\n",
    "}\n",
    "\n",
    "# 2) Perform 5-fold CV to find the best tree\n",
    "grid = GridSearchCV(\n",
    "    DecisionTreeClassifier(random_state=7),\n",
    "    param_grid,\n",
    "    cv=5,\n",
    "    scoring='accuracy',\n",
    "    n_jobs=-1\n",
    ")\n",
    "grid.fit(X_train, y_train)\n",
    "\n",
    "# 3) Extract the best estimator\n",
    "tree_model = grid.best_estimator_\n",
    "print(\"Best hyperparameters:\", grid.best_params_)"
   ]
  },
  {
   "cell_type": "code",
   "execution_count": 570,
   "metadata": {},
   "outputs": [
    {
     "name": "stdout",
     "output_type": "stream",
     "text": [
      "Accuracy:  0.9728571428571429\n"
     ]
    }
   ],
   "source": [
    "# tree_model = DecisionTreeClassifier(random_state=7)\n",
    "# tree_model.fit(X_train, y_train)\n",
    "# tree_model_pred = tree_model.predict(X_val)\n",
    "\n",
    "# tree_accuracy = accuracy_score(y_val, tree_model_pred)\n",
    "# tree_report = classification_report(y_val, tree_model_pred)\n",
    "\n",
    "# print(\"Accuracy: \", tree_accuracy)\n",
    "\n",
    "# # print(tree_report)\n"
   ]
  },
  {
   "cell_type": "code",
   "execution_count": 507,
   "metadata": {},
   "outputs": [
    {
     "name": "stdout",
     "output_type": "stream",
     "text": [
      "Accuracy:  0.9164285714285715\n",
      "              precision    recall  f1-score   support\n",
      "\n",
      "           0       0.92      0.92      0.92       733\n",
      "           1       0.91      0.92      0.91       667\n",
      "\n",
      "    accuracy                           0.92      1400\n",
      "   macro avg       0.92      0.92      0.92      1400\n",
      "weighted avg       0.92      0.92      0.92      1400\n",
      "\n"
     ]
    }
   ],
   "source": [
    "# SVM\n",
    "\n",
    "svm_scaler = StandardScaler()\n",
    "svm_X_train = X_train.copy()\n",
    "svm_X_val = X_val.copy()\n",
    "svm_X_train[numeric_columns] = svm_scaler.fit_transform(X_train[numeric_columns])\n",
    "svm_X_val[numeric_columns] = svm_scaler.transform(X_val[numeric_columns])\n",
    "\n",
    "svm_model = SVC(kernel=\"linear\", random_state=7)\n",
    "svm_model.fit(svm_X_train, y_train)\n",
    "svm_pred = svm_model.predict(svm_X_val)\n",
    "\n",
    "svm_accuracy = accuracy_score(y_val, svm_pred)\n",
    "svm_report = classification_report(y_val, svm_pred)\n",
    "\n",
    "print(\"Accuracy: \", svm_accuracy)\n",
    "\n",
    "print(svm_report)"
   ]
  },
  {
   "cell_type": "code",
   "execution_count": 508,
   "metadata": {},
   "outputs": [
    {
     "name": "stdout",
     "output_type": "stream",
     "text": [
      "True Negatives (TN): 720\n",
      "False Positives (FP): 13\n",
      "False Negatives (FN): 10\n",
      "True Positives (TP): 657\n"
     ]
    }
   ],
   "source": [
    "from sklearn.metrics import confusion_matrix\n",
    "# Compute predictions and the confusion matrix\n",
    "\n",
    "y_pred = tree_model.predict(X_val)\n",
    "tn, fp, fn, tp = confusion_matrix(y_val, y_pred).ravel()\n",
    "\n",
    "print(f\"True Negatives (TN): {tn}\")\n",
    "print(f\"False Positives (FP): {fp}\")\n",
    "print(f\"False Negatives (FN): {fn}\")\n",
    "print(f\"True Positives (TP): {tp}\")"
   ]
  },
  {
   "cell_type": "code",
   "execution_count": 550,
   "metadata": {},
   "outputs": [],
   "source": [
    "###\n",
    "test_df = pd.read_csv(\"test.csv\")\n",
    "test_dummies = pd.get_dummies(test_df)\n",
    "test_aligned = test_dummies.reindex(columns=X_train.columns, fill_value=0)\n",
    "\n",
    "#tree_model.fit(X_train.values, y_train)\n",
    "\n",
    "tree_test_pred = tree_model.predict(test_aligned)\n",
    "\n",
    "tree_submission  = pd.read_csv(\"solutions_template.csv\")\n",
    "\n",
    "tree_submission['progovernment_vote'] = tree_test_pred\n",
    "\n",
    "tree_submission.to_csv(\"dt_predictions.csv\", index=False)"
   ]
  },
  {
   "cell_type": "code",
   "execution_count": 552,
   "metadata": {},
   "outputs": [
    {
     "name": "stdout",
     "output_type": "stream",
     "text": [
      "Packaged into submission.zip\n"
     ]
    }
   ],
   "source": [
    "import zipfile\n",
    "\n",
    "with zipfile.ZipFile('submission.zip', 'w', compression=zipfile.ZIP_DEFLATED) as z:\n",
    "    z.write('dt_predictions.csv')\n",
    "print(\"Packaged into submission.zip\")\n"
   ]
  },
  {
   "cell_type": "code",
   "execution_count": null,
   "metadata": {},
   "outputs": [],
   "source": []
  },
  {
   "cell_type": "code",
   "execution_count": null,
   "metadata": {},
   "outputs": [],
   "source": []
  }
 ],
 "metadata": {
  "kernelspec": {
   "display_name": "Python 3 (ipykernel)",
   "language": "python",
   "name": "python3"
  },
  "language_info": {
   "codemirror_mode": {
    "name": "ipython",
    "version": 3
   },
   "file_extension": ".py",
   "mimetype": "text/x-python",
   "name": "python",
   "nbconvert_exporter": "python",
   "pygments_lexer": "ipython3",
   "version": "3.11.7"
  }
 },
 "nbformat": 4,
 "nbformat_minor": 4
}
